{
 "cells": [
  {
   "cell_type": "code",
   "execution_count": 40,
   "metadata": {
    "scrolled": true
   },
   "outputs": [
    {
     "data": {
      "text/plain": [
       "id                          False\n",
       "MO HLADR+ MFI (cells/ul)     True\n",
       "Neu CD64+MFI (cells/ul)      True\n",
       "CD3+T (cells/ul)            False\n",
       "CD8+T (cells/ul)            False\n",
       "CD4+T (cells/ul)            False\n",
       "NK (cells/ul)               False\n",
       "CD19+ (cells/ul)            False\n",
       "CD45+ (cells/ul)            False\n",
       "Age                         False\n",
       "Sex 0M1F                    False\n",
       "Mono CD64+MFI (cells/ul)     True\n",
       "label                       False\n",
       "dtype: bool"
      ]
     },
     "execution_count": 40,
     "metadata": {},
     "output_type": "execute_result"
    }
   ],
   "source": [
    "%matplotlib inline\n",
    "import matplotlib.pyplot as plt\n",
    "\n",
    "#Load libraries for data processing\n",
    "import pandas as pd #data processing, CSV file I/O (e.g. pd.read_csv)\n",
    "import numpy as np\n",
    "from scipy.stats import norm\n",
    "\n",
    "data_train = pd.read_csv('train.csv', index_col=False)\n",
    "data_train.isnull().any()"
   ]
  },
  {
   "cell_type": "code",
   "execution_count": 41,
   "metadata": {},
   "outputs": [],
   "source": [
    "data_train['MO HLADR+ MFI (cells/ul)'] = data_train['MO HLADR+ MFI (cells/ul)'].fillna(data_train['MO HLADR+ MFI (cells/ul)'].mean())\n",
    "data_train['Neu CD64+MFI (cells/ul)'] = data_train['Neu CD64+MFI (cells/ul)'].fillna(data_train['Neu CD64+MFI (cells/ul)'].mean())\n",
    "data_train['Mono CD64+MFI (cells/ul)'] = data_train['Mono CD64+MFI (cells/ul)'].fillna(data_train['Mono CD64+MFI (cells/ul)'].mean())\n"
   ]
  },
  {
   "cell_type": "code",
   "execution_count": 42,
   "metadata": {},
   "outputs": [],
   "source": [
    "array_train =data_train.values\n",
    "X_train = array_train[:,1:11] # features\n",
    "y_train = array_train[:,12]"
   ]
  },
  {
   "cell_type": "code",
   "execution_count": 43,
   "metadata": {},
   "outputs": [],
   "source": [
    "data_test = pd.read_csv('test.csv', index_col=False)\n",
    "\n",
    "\n",
    "data_test['MO HLADR+ MFI (cells/ul)'] = data_test['MO HLADR+ MFI (cells/ul)'].fillna(data_test['MO HLADR+ MFI (cells/ul)'].mean())\n",
    "data_test['Neu CD64+MFI (cells/ul)'] = data_test['Neu CD64+MFI (cells/ul)'].fillna(data_test['Neu CD64+MFI (cells/ul)'].mean())\n",
    "data_test['Mono CD64+MFI (cells/ul)'] = data_test['Mono CD64+MFI (cells/ul)'].fillna(data_test['Mono CD64+MFI (cells/ul)'].mean())\n",
    "\n",
    "\n",
    "\n",
    "array_test =data_test.values\n",
    "X_test = array_test[:,1:11] # features\n"
   ]
  },
  {
   "cell_type": "code",
   "execution_count": 54,
   "metadata": {},
   "outputs": [],
   "source": [
    "from sklearn.ensemble import RandomForestClassifier #随机森林分类器\n",
    "from sklearn.linear_model import LogisticRegression #逻辑回归\n",
    "from sklearn.preprocessing import LabelEncoder\n",
    "rf_clf = RandomForestClassifier()\n",
    "rf_clf.fit(X_train,y_train)\n",
    "y_pre = rf_clf.predict(X_test)\n",
    "data_test = pd.read_csv('test.csv', index_col=False)\n",
    "\n",
    "df_test=pd.DataFrame()\n",
    "df_test['id']=data_test['id']\n",
    "le_test = LabelEncoder()\n",
    "y_pre = le_test.fit_transform(y_pre)\n",
    "df_test['label']=y_pre\n",
    "df_test.to_csv(\"res_rf.csv\",index=False)\n",
    "\n",
    "\n"
   ]
  },
  {
   "cell_type": "code",
   "execution_count": 56,
   "metadata": {},
   "outputs": [],
   "source": [
    "import warnings\n",
    "warnings.filterwarnings(\"ignore\")\n",
    "from sklearn.linear_model import LogisticRegression\n",
    "from sklearn.preprocessing import LabelEncoder\n",
    "lr_clf = LogisticRegression()\n",
    "lr_clf.fit(X_train,y_train)\n",
    "y_pre = lr_clf.predict(X_test)\n",
    "data_test = pd.read_csv('test.csv', index_col=False)\n",
    "\n",
    "df_test=pd.DataFrame()\n",
    "df_test['id']=data_test['id']\n",
    "le_test = LabelEncoder()\n",
    "y_pre = le_test.fit_transform(y_pre)\n",
    "df_test['label']=y_pre\n",
    "df_test.to_csv(\"res_lr.csv\",index=False)\n",
    "\n"
   ]
  },
  {
   "cell_type": "code",
   "execution_count": 57,
   "metadata": {},
   "outputs": [],
   "source": [
    "from sklearn.ensemble import VotingClassifier \n",
    "voting_hard_clf = VotingClassifier(estimators=[('rf',rf_clf ),('lr',lr_clf)], #estimators:子分类器\n",
    "                              voting='hard')\n",
    "voting_hard_clf.fit(X_train,y_train)\n",
    "y_pre = voting_hard_clf.predict(X_test)\n",
    "data_test = pd.read_csv('test.csv', index_col=False)\n",
    "\n",
    "df_test=pd.DataFrame()\n",
    "df_test['id']=data_test['id']\n",
    "le_test = LabelEncoder()\n",
    "y_pre = le_test.fit_transform(y_pre)\n",
    "df_test['label']=y_pre\n",
    "df_test.to_csv(\"res_hard.csv\",index=False)"
   ]
  },
  {
   "cell_type": "code",
   "execution_count": null,
   "metadata": {},
   "outputs": [],
   "source": []
  },
  {
   "cell_type": "code",
   "execution_count": null,
   "metadata": {},
   "outputs": [],
   "source": []
  }
 ],
 "metadata": {
  "kernelspec": {
   "display_name": "Python 3",
   "language": "python",
   "name": "python3"
  },
  "language_info": {
   "codemirror_mode": {
    "name": "ipython",
    "version": 3
   },
   "file_extension": ".py",
   "mimetype": "text/x-python",
   "name": "python",
   "nbconvert_exporter": "python",
   "pygments_lexer": "ipython3",
   "version": "3.8.3"
  }
 },
 "nbformat": 4,
 "nbformat_minor": 4
}
